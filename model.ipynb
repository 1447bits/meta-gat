{
 "cells": [
  {
   "cell_type": "code",
   "execution_count": 1,
   "metadata": {},
   "outputs": [],
   "source": [
    "import os\n",
    "import torch\n",
    "import torch.nn as nn\n",
    "import torch.optim as optim\n",
    "from torch_geometric.data import Data\n",
    "from torch_geometric.utils import negative_sampling\n",
    "from torch_geometric.nn import GCNConv, GATConv\n",
    "import pandas as pd\n",
    "from sklearn.preprocessing import StandardScaler, LabelEncoder\n",
    "from tqdm import tqdm\n",
    "import numpy as np\n",
    "import time\n",
    "\n",
    "import matplotlib.pyplot as plt\n",
    "\n",
    "os.environ['PYTORCH_MPS_ENABLE_FALLBACK']='1'\n",
    "\n",
    "# Set random seed for reproducibility\n",
    "torch.manual_seed(42)\n",
    "np.random.seed(42)\n"
   ]
  },
  {
   "cell_type": "code",
   "execution_count": 14,
   "metadata": {},
   "outputs": [],
   "source": [
    "\n",
    "# Function to plot training and validation loss over epochs\n",
    "def plot_loss(train_losses, val_losses, save_path='loss_plot.png'):\n",
    "    \"\"\"\n",
    "    Plots the training and validation loss over epochs.\n",
    "\n",
    "    Args:\n",
    "        train_losses (list): List of training losses.\n",
    "        val_losses (list): List of validation losses.\n",
    "        save_path (str): Path to save the plot image.\n",
    "    \"\"\"\n",
    "    plt.figure(figsize=(10, 6))\n",
    "    epochs = range(1, len(train_losses) + 1)\n",
    "    plt.plot(epochs, train_losses, label='Training Loss')\n",
    "    plt.plot(epochs, val_losses, label='Validation Loss')\n",
    "    plt.xlabel('Epochs')\n",
    "    plt.ylabel('Loss')\n",
    "    plt.title('Training and Validation Loss Over Time')\n",
    "    plt.legend()\n",
    "    plt.grid(True)\n",
    "    plt.savefig(save_path)\n",
    "    plt.show()\n",
    "    print(f\"Loss plot saved to {save_path}\")\n"
   ]
  },
  {
   "cell_type": "code",
   "execution_count": 2,
   "metadata": {},
   "outputs": [],
   "source": [
    "\n",
    "def preprocess_data(filepath, sample_size=200000, k=10, random_state=42):\n",
    "    \"\"\"\n",
    "    Load the dataset, sample a subset, encode categorical features,\n",
    "    normalize continuous features, and create an optimized edge list.\n",
    "\n",
    "    Args:\n",
    "        filepath (str): Path to the CSV dataset.\n",
    "        sample_size (int): Number of samples to select.\n",
    "        k (int): Number of neighbors to connect for each node.\n",
    "        random_state (int): Seed for reproducibility.\n",
    "\n",
    "    Returns:\n",
    "        Data: PyTorch Geometric Data object with sampled data.\n",
    "        dict: Encoders used for categorical features.\n",
    "    \"\"\"\n",
    "    print(\"Loading dataset...\")\n",
    "    # Load dataset\n",
    "    df = pd.read_csv(filepath)\n",
    "    print(f\"Original dataset size: {df.shape}\")\n",
    "\n",
    "    # Sample the dataset\n",
    "    print(\"Sampling data...\")\n",
    "    if sample_size < len(df):\n",
    "        df_sampled = df.sample(n=sample_size, random_state=random_state).reset_index(drop=True)\n",
    "    else:\n",
    "        df_sampled = df.reset_index(drop=True)\n",
    "    print(f\"Sampled dataset size: {df_sampled.shape}\")\n",
    "\n",
    "    # Encode categorical features\n",
    "    print(\"Encoding categorical features...\")\n",
    "    encoders = {}\n",
    "    categorical_cols = ['disease_family', 'disease', 'smoking_status', 'cough_type']\n",
    "    for col in categorical_cols:\n",
    "        if col in df_sampled.columns:\n",
    "            encoder = LabelEncoder()\n",
    "            df_sampled[col] = encoder.fit_transform(df_sampled[col])\n",
    "            encoders[col] = encoder\n",
    "            print(f\"Encoded column: {col}\")\n",
    "        else:\n",
    "            raise ValueError(f\"Column '{col}' not found in the dataset.\")\n",
    "\n",
    "    # Normalize continuous features\n",
    "    print(\"Normalizing continuous features...\")\n",
    "    scaler = StandardScaler()\n",
    "    continuous_cols = ['systolic_bp', 'diastolic_bp', 'cholesterol', 'BMI', 'heart_rate', 'blood_glucose']\n",
    "    for col in continuous_cols:\n",
    "        if col in df_sampled.columns:\n",
    "            df_sampled[col] = scaler.fit_transform(df_sampled[[col]])\n",
    "            print(f\"Normalized column: {col}\")\n",
    "        else:\n",
    "            raise ValueError(f\"Column '{col}' not found in the dataset.\")\n",
    "\n",
    "    # Prepare node features (X)\n",
    "    print(\"Preparing node features...\")\n",
    "    if 'patient_id' in df_sampled.columns:\n",
    "        feature_cols = [col for col in df_sampled.columns if col != 'patient_id']\n",
    "        x = torch.tensor(df_sampled[feature_cols].values, dtype=torch.float)\n",
    "    else:\n",
    "        x = torch.tensor(df_sampled.values, dtype=torch.float)\n",
    "    print(f\"Node features shape: {x.shape}\")\n",
    "\n",
    "    # Create optimized edge list\n",
    "    print(\"Creating edge list...\")\n",
    "    edge_index = create_edge_list_vectorized(df_sampled, k=k)\n",
    "    print(f\"Edge list created with shape: {edge_index.shape}\")\n",
    "\n",
    "    return Data(x=x, edge_index=edge_index), encoders\n"
   ]
  },
  {
   "cell_type": "code",
   "execution_count": 4,
   "metadata": {},
   "outputs": [],
   "source": [
    "\n",
    "def create_edge_list_vectorized(df, k=10):\n",
    "    \"\"\"\n",
    "    Optimized edge list creation using vectorized operations.\n",
    "    Connect each node to k randomly selected neighbors within the same 'disease_family'.\n",
    "\n",
    "    Args:\n",
    "        df (pd.DataFrame): Sampled DataFrame.\n",
    "        k (int): Number of neighbors to connect for each node.\n",
    "\n",
    "    Returns:\n",
    "        torch.Tensor: Edge index tensor of shape [2, num_edges].\n",
    "    \"\"\"\n",
    "    print(\"Grouping data by 'disease_family'...\")\n",
    "    edges = []\n",
    "\n",
    "    groups = df.groupby('disease_family').groups\n",
    "    print(f\"Number of disease families: {len(groups)}\")\n",
    "\n",
    "    for group_name, group in tqdm(groups.items(), total=len(groups), desc=\"Processing groups\"):\n",
    "        group_indices = group.values  # Assuming group is a pandas Index or similar\n",
    "        num_nodes = len(group_indices)\n",
    "\n",
    "        if num_nodes <= 1:\n",
    "            print(f\"Group '{group_name}' has only {num_nodes} node(s). Skipping.\")\n",
    "            continue  # No edges can be formed\n",
    "\n",
    "        # Determine the actual number of neighbors\n",
    "        actual_k = min(k, num_nodes - 1)\n",
    "\n",
    "        # Shuffle the indices for randomness\n",
    "        shuffled_indices = np.random.permutation(group_indices)\n",
    "\n",
    "        # Assign the first 'actual_k' indices as neighbors\n",
    "        neighbors = np.tile(shuffled_indices[:actual_k], (num_nodes, 1))\n",
    "\n",
    "        # Create source and target edges\n",
    "        source_nodes = np.repeat(group_indices, actual_k)\n",
    "        target_nodes = neighbors.flatten()\n",
    "\n",
    "        # Append to the edge list\n",
    "        edges.extend(zip(source_nodes, target_nodes))\n",
    "\n",
    "    # Convert to NumPy array for efficient processing\n",
    "    edges = np.array(edges)\n",
    "\n",
    "    print(\"Removing duplicate edges and self-loops...\")\n",
    "    # Remove self-loops\n",
    "    mask = edges[:, 0] != edges[:, 1]\n",
    "    edges = edges[mask]\n",
    "\n",
    "    # Remove duplicate edges\n",
    "    edges = np.unique(edges, axis=0)\n",
    "    print(f\"Total edges after sampling: {len(edges)}\")\n",
    "\n",
    "    if len(edges) == 0:\n",
    "        raise ValueError(\"No edges were created. Please check the edge creation logic.\")\n",
    "\n",
    "    # Convert to PyTorch tensor\n",
    "    edge_index = torch.tensor(edges, dtype=torch.long).t()\n",
    "\n",
    "    return edge_index\n"
   ]
  },
  {
   "cell_type": "code",
   "execution_count": 5,
   "metadata": {},
   "outputs": [],
   "source": [
    "class PatientGNN(nn.Module):\n",
    "    def __init__(self, in_channels, hidden_channels, out_channels, heads):\n",
    "        super(PatientGNN, self).__init__()\n",
    "        self.gcn1 = GCNConv(in_channels, hidden_channels)\n",
    "        self.attention = GATConv(hidden_channels, hidden_channels, heads=heads, concat=False)\n",
    "        self.gcn2 = GCNConv(hidden_channels, out_channels)\n",
    "\n",
    "    def forward(self, x, edge_index):\n",
    "        x = self.gcn1(x, edge_index)\n",
    "        x = torch.relu(x)\n",
    "        x = self.attention(x, edge_index)\n",
    "        x = torch.relu(x)\n",
    "        x = self.gcn2(x, edge_index)\n",
    "        return x\n"
   ]
  },
  {
   "cell_type": "code",
   "execution_count": 6,
   "metadata": {},
   "outputs": [],
   "source": [
    "\n",
    "# Define Training Loop\n",
    "def train(model, optimizer, criterion, data):\n",
    "    model.train()\n",
    "    optimizer.zero_grad()\n",
    "    out = model(data.x, data.train_pos_edge_index)\n",
    "\n",
    "    # Ensure indices are long tensors\n",
    "    pos_src = data.train_pos_edge_index[0]\n",
    "    pos_dst = data.train_pos_edge_index[1]\n",
    "    neg_src = data.train_neg_edge_index[0]\n",
    "    neg_dst = data.train_neg_edge_index[1]\n",
    "\n",
    "    pos_out_src = out[pos_src]\n",
    "    pos_out_dst = out[pos_dst]\n",
    "    neg_out_src = out[neg_src]\n",
    "    neg_out_dst = out[neg_dst]\n",
    "\n",
    "    # Compute similarity scores\n",
    "    pos_scores = (pos_out_src * pos_out_dst).sum(dim=-1)\n",
    "    neg_scores = (neg_out_src * neg_out_dst).sum(dim=-1)\n",
    "\n",
    "    # Compute loss\n",
    "    pos_loss = -torch.log(torch.sigmoid(pos_scores) + 1e-15).mean()\n",
    "    neg_loss = -torch.log(1 - torch.sigmoid(neg_scores) + 1e-15).mean()\n",
    "    loss = pos_loss + neg_loss\n",
    "\n",
    "    loss.backward()\n",
    "    optimizer.step()\n",
    "    return loss.item()\n"
   ]
  },
  {
   "cell_type": "code",
   "execution_count": 7,
   "metadata": {},
   "outputs": [],
   "source": [
    "\n",
    "# Evaluation Function\n",
    "def evaluate(model, criterion, data, split='val'):\n",
    "    model.eval()\n",
    "    with torch.no_grad():\n",
    "        out = model(data.x, data.train_pos_edge_index)\n",
    "\n",
    "        if split == 'val':\n",
    "            pos_edge = data.val_pos_edge_index\n",
    "            neg_edge = data.val_neg_edge_index\n",
    "        elif split == 'test':\n",
    "            pos_edge = data.test_pos_edge_index\n",
    "            neg_edge = data.test_neg_edge_index\n",
    "        else:\n",
    "            raise ValueError(\"Split must be 'val' or 'test'\")\n",
    "\n",
    "        pos_src = pos_edge[0]\n",
    "        pos_dst = pos_edge[1]\n",
    "        neg_src = neg_edge[0]\n",
    "        neg_dst = neg_edge[1]\n",
    "\n",
    "        pos_out_src = out[pos_src]\n",
    "        pos_out_dst = out[pos_dst]\n",
    "        neg_out_src = out[neg_src]\n",
    "        neg_out_dst = out[neg_dst]\n",
    "\n",
    "        # Compute similarity scores\n",
    "        pos_scores = (pos_out_src * pos_out_dst).sum(dim=-1)\n",
    "        neg_scores = (neg_out_src * neg_out_dst).sum(dim=-1)\n",
    "\n",
    "        # Compute loss\n",
    "        pos_loss = -torch.log(torch.sigmoid(pos_scores) + 1e-15).mean()\n",
    "        neg_loss = -torch.log(1 - torch.sigmoid(neg_scores) + 1e-15).mean()\n",
    "        loss = pos_loss + neg_loss\n",
    "\n",
    "    return loss.item()\n"
   ]
  },
  {
   "cell_type": "code",
   "execution_count": 8,
   "metadata": {},
   "outputs": [],
   "source": [
    "\n",
    "# Recommendation Function\n",
    "def recommend_similar_patients(model, data, patient_id, top_k=5):\n",
    "    model.eval()\n",
    "    with torch.no_grad():\n",
    "        embeddings = model(data.x, data.train_pos_edge_index)\n",
    "        embeddings = embeddings.cpu()  # Ensure embeddings are on CPU\n",
    "        patient_embedding = embeddings[patient_id].unsqueeze(0)\n",
    "        similarities = torch.cosine_similarity(patient_embedding, embeddings)\n",
    "        recommended_patients = similarities.argsort(descending=True)[1:top_k+1]\n",
    "        return recommended_patients\n"
   ]
  },
  {
   "cell_type": "code",
   "execution_count": 9,
   "metadata": {},
   "outputs": [],
   "source": [
    "\n",
    "# Function to split edges into train, val, test\n",
    "def split_edges(data, val_ratio=0.05, test_ratio=0.05, random_state=42):\n",
    "    \"\"\"\n",
    "    Split the edges in data.edge_index into train, validation, and test sets.\n",
    "\n",
    "    Args:\n",
    "        data (Data): PyTorch Geometric Data object.\n",
    "        val_ratio (float): Proportion of edges to use for validation.\n",
    "        test_ratio (float): Proportion of edges to use for testing.\n",
    "        random_state (int): Seed for reproducibility.\n",
    "\n",
    "    Returns:\n",
    "        Data: Data object with train, val, and test edge indices.\n",
    "    \"\"\"\n",
    "    print(\"Splitting edges into train, validation, and test sets...\")\n",
    "    num_edges = data.edge_index.size(1)\n",
    "    num_val = int(num_edges * val_ratio)\n",
    "    num_test = int(num_edges * test_ratio)\n",
    "    num_train = num_edges - num_val - num_test\n",
    "\n",
    "    # Shuffle edge indices with reproducibility\n",
    "    generator = torch.Generator().manual_seed(random_state)\n",
    "    indices = torch.randperm(num_edges, generator=generator)\n",
    "    train_indices = indices[:num_train]\n",
    "    val_indices = indices[num_train:num_train + num_val]\n",
    "    test_indices = indices[num_train + num_val:]\n",
    "\n",
    "    data.train_pos_edge_index = data.edge_index[:, train_indices]\n",
    "    data.val_pos_edge_index = data.edge_index[:, val_indices]\n",
    "    data.test_pos_edge_index = data.edge_index[:, test_indices]\n",
    "\n",
    "    # Generate negative samples for train, val, and test\n",
    "    print(\"Generating negative samples for training...\")\n",
    "    data.train_neg_edge_index = negative_sampling(\n",
    "        edge_index=data.train_pos_edge_index,\n",
    "        num_nodes=data.num_nodes,\n",
    "        num_neg_samples=data.train_pos_edge_index.size(1),\n",
    "        method='sparse'\n",
    "    )\n",
    "\n",
    "    print(\"Generating negative samples for validation...\")\n",
    "    data.val_neg_edge_index = negative_sampling(\n",
    "        edge_index=data.val_pos_edge_index,\n",
    "        num_nodes=data.num_nodes,\n",
    "        num_neg_samples=data.val_pos_edge_index.size(1),\n",
    "        method='sparse'\n",
    "    )\n",
    "\n",
    "    print(\"Generating negative samples for testing...\")\n",
    "    data.test_neg_edge_index = negative_sampling(\n",
    "        edge_index=data.test_pos_edge_index,\n",
    "        num_nodes=data.num_nodes,\n",
    "        num_neg_samples=data.test_pos_edge_index.size(1),\n",
    "        method='sparse'\n",
    "    )\n",
    "\n",
    "    return data\n"
   ]
  },
  {
   "cell_type": "code",
   "execution_count": 16,
   "metadata": {},
   "outputs": [
    {
     "name": "stdout",
     "output_type": "stream",
     "text": [
      "Using device: cpu\n"
     ]
    }
   ],
   "source": [
    "\n",
    "# Main Execution\n",
    "\n",
    "# Filepath to dataset\n",
    "filepath = '~/Git/college/gat-dataset/SynDisNet.csv'  # Update this path as needed\n",
    "\n",
    "# Set device to CUDA if available, else MPS or CPU\n",
    "if torch.cuda.is_available():\n",
    "    device = torch.device(\"cuda\")\n",
    "elif torch.backends.mps.is_available():\n",
    "    # device = torch.device(\"mps\") - currently not supported\n",
    "    device = torch.device(\"cpu\")\n",
    "else:\n",
    "    device = torch.device(\"cpu\")\n",
    "print(f\"Using device: {device}\")\n"
   ]
  },
  {
   "cell_type": "code",
   "execution_count": 29,
   "metadata": {},
   "outputs": [
    {
     "name": "stdout",
     "output_type": "stream",
     "text": [
      "Loading dataset...\n",
      "Original dataset size: (1000000, 13)\n",
      "Sampling data...\n",
      "Sampled dataset size: (10000, 13)\n",
      "Encoding categorical features...\n",
      "Encoded column: disease_family\n",
      "Encoded column: disease\n",
      "Encoded column: smoking_status\n",
      "Encoded column: cough_type\n",
      "Normalizing continuous features...\n",
      "Normalized column: systolic_bp\n",
      "Normalized column: diastolic_bp\n",
      "Normalized column: cholesterol\n",
      "Normalized column: BMI\n",
      "Normalized column: heart_rate\n",
      "Normalized column: blood_glucose\n",
      "Preparing node features...\n",
      "Node features shape: torch.Size([10000, 12])\n",
      "Creating edge list...\n",
      "Grouping data by 'disease_family'...\n",
      "Number of disease families: 10\n"
     ]
    },
    {
     "name": "stderr",
     "output_type": "stream",
     "text": [
      "Processing groups: 100%|██████████| 10/10 [00:00<00:00, 961.33it/s]"
     ]
    },
    {
     "name": "stdout",
     "output_type": "stream",
     "text": [
      "Removing duplicate edges and self-loops...\n",
      "Total edges after sampling: 99900\n",
      "Edge list created with shape: torch.Size([2, 99900])\n",
      "Splitting edges into train, validation, and test sets...\n",
      "Generating negative samples for training...\n",
      "Generating negative samples for validation...\n",
      "Generating negative samples for testing...\n",
      "Edge splits:\n",
      "Train edges: 89910\n",
      "Validation edges: 4995\n",
      "Test edges: 4995\n",
      "Moving data to device...\n"
     ]
    },
    {
     "name": "stderr",
     "output_type": "stream",
     "text": [
      "\n"
     ]
    }
   ],
   "source": [
    "# Preprocess data and create Data object with sampling\n",
    "sample_size = 10000  # Number of samples to select\n",
    "k = 10  # Number of neighbors per node\n",
    "data, encoders = preprocess_data(filepath, sample_size=sample_size, k=k)\n",
    "\n",
    "# Split edges into train, val, and test\n",
    "data = split_edges(data, val_ratio=0.05, test_ratio=0.05, random_state=42)\n",
    "print(\"Edge splits:\")\n",
    "print(f\"Train edges: {data.train_pos_edge_index.size(1)}\")\n",
    "print(f\"Validation edges: {data.val_pos_edge_index.size(1)}\")\n",
    "print(f\"Test edges: {data.test_pos_edge_index.size(1)}\")\n",
    "\n",
    "# Move data to device\n",
    "print(\"Moving data to device...\")\n",
    "data = data.to(device)\n"
   ]
  },
  {
   "cell_type": "code",
   "execution_count": 30,
   "metadata": {},
   "outputs": [
    {
     "name": "stdout",
     "output_type": "stream",
     "text": [
      "Initializing model...\n"
     ]
    }
   ],
   "source": [
    "\n",
    "\n",
    "# Initialize model and move to device\n",
    "in_channels = data.x.size(1)\n",
    "hidden_channels = 64\n",
    "out_channels = 32\n",
    "heads = 4\n",
    "print(\"Initializing model...\")\n",
    "model = PatientGNN(in_channels=in_channels, hidden_channels=hidden_channels, out_channels=out_channels, heads=heads)\n",
    "model = model.to(device)"
   ]
  },
  {
   "cell_type": "code",
   "execution_count": 31,
   "metadata": {},
   "outputs": [],
   "source": [
    "\n",
    "\n",
    "# Optimizer and Loss Function\n",
    "optimizer = optim.Adam(model.parameters(), lr=0.001)\n",
    "criterion = nn.MSELoss()  # Alternatively, use a different loss based on your task\n",
    "\n",
    "# Training loop with progress bar\n",
    "epochs = 1000\n",
    "best_val_loss = float('inf')\n",
    "patience = 20\n",
    "counter = 0\n"
   ]
  },
  {
   "cell_type": "code",
   "execution_count": 32,
   "metadata": {},
   "outputs": [],
   "source": [
    "\n",
    "# Lists to store loss values for plotting\n",
    "train_losses = []\n",
    "val_losses = []\n"
   ]
  },
  {
   "cell_type": "code",
   "execution_count": 33,
   "metadata": {},
   "outputs": [
    {
     "name": "stdout",
     "output_type": "stream",
     "text": [
      "Starting training...\n"
     ]
    },
    {
     "name": "stderr",
     "output_type": "stream",
     "text": [
      "Training Progress:   0%|          | 2/1000 [00:00<03:50,  4.33epoch/s]"
     ]
    },
    {
     "name": "stdout",
     "output_type": "stream",
     "text": [
      "Epoch 0, Train Loss: 10.1884, Val Loss: 7.1086\n"
     ]
    },
    {
     "name": "stderr",
     "output_type": "stream",
     "text": [
      "Training Progress:  10%|█         | 102/1000 [00:20<02:52,  5.21epoch/s]"
     ]
    },
    {
     "name": "stdout",
     "output_type": "stream",
     "text": [
      "Epoch 100, Train Loss: 0.7640, Val Loss: 0.7825\n"
     ]
    },
    {
     "name": "stderr",
     "output_type": "stream",
     "text": [
      "Training Progress:  20%|██        | 202/1000 [00:39<02:33,  5.19epoch/s]"
     ]
    },
    {
     "name": "stdout",
     "output_type": "stream",
     "text": [
      "Epoch 200, Train Loss: 0.7293, Val Loss: 0.7498\n"
     ]
    },
    {
     "name": "stderr",
     "output_type": "stream",
     "text": [
      "Training Progress:  30%|███       | 302/1000 [00:59<02:29,  4.67epoch/s]"
     ]
    },
    {
     "name": "stdout",
     "output_type": "stream",
     "text": [
      "Epoch 300, Train Loss: 0.7201, Val Loss: 0.7389\n"
     ]
    },
    {
     "name": "stderr",
     "output_type": "stream",
     "text": [
      "Training Progress:  40%|████      | 401/1000 [01:20<02:02,  4.89epoch/s]"
     ]
    },
    {
     "name": "stdout",
     "output_type": "stream",
     "text": [
      "Epoch 400, Train Loss: 0.7155, Val Loss: 0.7342\n"
     ]
    },
    {
     "name": "stderr",
     "output_type": "stream",
     "text": [
      "Training Progress:  50%|█████     | 501/1000 [01:41<01:42,  4.89epoch/s]"
     ]
    },
    {
     "name": "stdout",
     "output_type": "stream",
     "text": [
      "Epoch 500, Train Loss: 0.7121, Val Loss: 0.7309\n"
     ]
    },
    {
     "name": "stderr",
     "output_type": "stream",
     "text": [
      "Training Progress:  60%|██████    | 601/1000 [02:02<01:22,  4.82epoch/s]"
     ]
    },
    {
     "name": "stdout",
     "output_type": "stream",
     "text": [
      "Epoch 600, Train Loss: 0.7091, Val Loss: 0.7290\n"
     ]
    },
    {
     "name": "stderr",
     "output_type": "stream",
     "text": [
      "Training Progress:  70%|███████   | 701/1000 [02:23<01:03,  4.72epoch/s]"
     ]
    },
    {
     "name": "stdout",
     "output_type": "stream",
     "text": [
      "Epoch 700, Train Loss: 0.7071, Val Loss: 0.7281\n"
     ]
    },
    {
     "name": "stderr",
     "output_type": "stream",
     "text": [
      "Training Progress:  80%|████████  | 801/1000 [02:44<00:41,  4.74epoch/s]"
     ]
    },
    {
     "name": "stdout",
     "output_type": "stream",
     "text": [
      "Epoch 800, Train Loss: 0.7054, Val Loss: 0.7283\n"
     ]
    },
    {
     "name": "stderr",
     "output_type": "stream",
     "text": [
      "Training Progress:  80%|████████  | 804/1000 [02:45<00:40,  4.87epoch/s]"
     ]
    },
    {
     "name": "stdout",
     "output_type": "stream",
     "text": [
      "Early stopping triggered.\n"
     ]
    },
    {
     "name": "stderr",
     "output_type": "stream",
     "text": [
      "\n"
     ]
    }
   ],
   "source": [
    "\n",
    "print(\"Starting training...\")\n",
    "for epoch in tqdm(range(epochs), desc=\"Training Progress\", unit=\"epoch\"):\n",
    "    loss = train(model, optimizer, criterion, data)\n",
    "    train_losses.append(loss)\n",
    "\n",
    "    # Evaluate on validation set\n",
    "    val_loss = evaluate(model, criterion, data, split='val')\n",
    "    val_losses.append(val_loss)\n",
    "\n",
    "    if val_loss < best_val_loss:\n",
    "        best_val_loss = val_loss\n",
    "        counter = 0\n",
    "        # Save the best model\n",
    "        torch.save(model.state_dict(), 'best_model.pth')\n",
    "    else:\n",
    "        counter += 1\n",
    "\n",
    "    if epoch % 100 == 0:\n",
    "        print(f\"Epoch {epoch}, Train Loss: {loss:.4f}, Val Loss: {val_loss:.4f}\")\n",
    "\n",
    "    # Early stopping\n",
    "    if counter >= patience:\n",
    "        print(\"Early stopping triggered.\")\n",
    "        break\n"
   ]
  },
  {
   "cell_type": "code",
   "execution_count": 34,
   "metadata": {},
   "outputs": [
    {
     "name": "stdout",
     "output_type": "stream",
     "text": [
      "Loading the best model...\n",
      "Test Loss: 0.7290\n"
     ]
    },
    {
     "name": "stderr",
     "output_type": "stream",
     "text": [
      "/var/folders/70/9wgnzfm56tx44byb0jjm6llr0000gn/T/ipykernel_26534/2654965690.py:3: FutureWarning: You are using `torch.load` with `weights_only=False` (the current default value), which uses the default pickle module implicitly. It is possible to construct malicious pickle data which will execute arbitrary code during unpickling (See https://github.com/pytorch/pytorch/blob/main/SECURITY.md#untrusted-models for more details). In a future release, the default value for `weights_only` will be flipped to `True`. This limits the functions that could be executed during unpickling. Arbitrary objects will no longer be allowed to be loaded via this mode unless they are explicitly allowlisted by the user via `torch.serialization.add_safe_globals`. We recommend you start setting `weights_only=True` for any use case where you don't have full control of the loaded file. Please open an issue on GitHub for any issues related to this experimental feature.\n",
      "  model.load_state_dict(torch.load('best_model.pth'))\n"
     ]
    }
   ],
   "source": [
    "\n",
    "# Load the best model\n",
    "print(\"Loading the best model...\")\n",
    "model.load_state_dict(torch.load('best_model.pth'))\n",
    "\n",
    "# Evaluate on test set\n",
    "test_loss = evaluate(model, criterion, data, split='test')\n",
    "print(f\"Test Loss: {test_loss:.4f}\")\n",
    "\n",
    "\n"
   ]
  },
  {
   "cell_type": "code",
   "execution_count": 35,
   "metadata": {},
   "outputs": [
    {
     "name": "stdout",
     "output_type": "stream",
     "text": [
      "Recommended patients for patient 0: [6793, 1782, 5688, 5446, 1628]\n"
     ]
    }
   ],
   "source": [
    "\n",
    "# Recommendations\n",
    "patient_id = 0  # Example patient ID (ensure it's within the sampled data range)\n",
    "if patient_id >= data.num_nodes:\n",
    "    raise ValueError(f\"patient_id {patient_id} is out of range for the dataset with {data.num_nodes} nodes.\")\n",
    "\n",
    "recommended_patients = recommend_similar_patients(model, data, patient_id, top_k=5)\n",
    "print(f\"Recommended patients for patient {patient_id}: {recommended_patients.tolist()}\")"
   ]
  },
  {
   "cell_type": "code",
   "execution_count": 39,
   "metadata": {},
   "outputs": [
    {
     "data": {
      "image/png": "[encoded data removed]",
      "text/plain": [
       "<Figure size 1000x600 with 1 Axes>"
      ]
     },
     "metadata": {},
     "output_type": "display_data"
    },
    {
     "name": "stdout",
     "output_type": "stream",
     "text": [
      "Loss plot saved to loss_plot.png\n"
     ]
    }
   ],
   "source": [
    "import matplotlib.pyplot as plt\n",
    "# Plot training and validation loss over epochs\n",
    "plot_loss(train_losses[200:], val_losses[200:], save_path='loss_plot.png')"
   ]
  },
  {
   "cell_type": "code",
   "execution_count": 40,
   "metadata": {},
   "outputs": [
    {
     "data": {
      "image/png": "[encoded data removed]",
      "text/plain": [
       "<Figure size 1000x600 with 1 Axes>"
      ]
     },
     "metadata": {},
     "output_type": "display_data"
    },
    {
     "name": "stdout",
     "output_type": "stream",
     "text": [
      "Loss plot saved to loss_plot.png\n"
     ]
    }
   ],
   "source": [
    "plot_loss(train_losses, val_losses, save_path='loss_plot.png')\n"
   ]
  },
  {
   "cell_type": "code",
   "execution_count": null,
   "metadata": {},
   "outputs": [],
   "source": []
  }
 ],
 "metadata": {
  "kernelspec": {
   "display_name": ".venv",
   "language": "python",
   "name": "python3"
  },
  "language_info": {
   "codemirror_mode": {
    "name": "ipython",
    "version": 3
   },
   "file_extension": ".py",
   "mimetype": "text/x-python",
   "name": "python",
   "nbconvert_exporter": "python",
   "pygments_lexer": "ipython3",
   "version": "3.10.14"
  }
 },
 "nbformat": 4,
 "nbformat_minor": 2
}
